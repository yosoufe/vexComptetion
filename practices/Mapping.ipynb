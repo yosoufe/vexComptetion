{
 "cells": [
  {
   "cell_type": "code",
   "execution_count": 3,
   "id": "c8b0a02b-7a19-417a-a1bd-b4f705190b12",
   "metadata": {},
   "outputs": [],
   "source": [
    "import sys\n",
    "sys.path.append(\"..\")"
   ]
  },
  {
   "cell_type": "code",
   "execution_count": 4,
   "id": "d2f89a29-3a48-41d8-9f02-600d489f3d9d",
   "metadata": {},
   "outputs": [
    {
     "name": "stdout",
     "output_type": "stream",
     "text": [
      "pygame 2.5.1 (SDL 2.28.2, Python 3.10.11)\n",
      "Hello from the pygame community. https://www.pygame.org/contribute.html\n"
     ]
    }
   ],
   "source": [
    "from at_detector import ATDetector\n",
    "from constants import Config, Topics\n",
    "import cv2\n",
    "from cortano import RemoteInterface\n",
    "from robot_interface_node import ManualControl\n",
    "import pygame\n",
    "import numpy as np"
   ]
  },
  {
   "cell_type": "code",
   "execution_count": null,
   "id": "26221585-ed75-4d51-a231-219f5207f65d",
   "metadata": {},
   "outputs": [],
   "source": [
    "def enoughDataRecursive(foundData, inputTags, start_tag):\n",
    "    # print(foundData, inputTags, start_tag)\n",
    "    for tagSet in inputTags:\n",
    "        if start_tag in tagSet:\n",
    "            for tag in tagSet:\n",
    "                foundData[tag] = True\n",
    "                copyInputTags = inputTags.copy()\n",
    "                copyInputTags.remove(tagSet)\n",
    "                enoughDataRecursive(foundData, copyInputTags, tag)\n",
    "\n",
    "def enoughData(detectTagSets, allTags):\n",
    "    inputTags = [tagSet for tagSet in detectTagSets if len(tagSet) > 1]\n",
    "    if len(inputTags) == 0:\n",
    "        return False\n",
    "    foundData = {tag: False for tag in allTags}\n",
    "    currentSet = inputTags[0]\n",
    "    for tag in currentSet:\n",
    "        foundData[tag] = True\n",
    "        if len(inputTags) > 1:\n",
    "            enoughDataRecursive(foundData, inputTags[1:], tag)\n",
    "    return all(foundData.values())\n",
    "\n",
    "# tests\n",
    "setOfTags = {1,2,3,4}\n",
    "detectedTagIds = [(1,), (2,3,4)]\n",
    "assert(enoughData(detectedTagIds, setOfTags) == False)\n",
    "detectedTagIds = [(1,3), (2,3,4)]\n",
    "assert(enoughData(detectedTagIds, setOfTags))\n",
    "detectedTagIds = [(1,3), (2,4)]\n",
    "assert(enoughData(detectedTagIds, setOfTags) == False)\n",
    "detectedTagIds = [(1,3), (2,3,4)]*4\n",
    "assert(enoughData(detectedTagIds, setOfTags))\n",
    "detectedTagIds = [(1,3), (2,4)]*4\n",
    "assert(enoughData(detectedTagIds, setOfTags) == False)\n",
    "detectedTagIds = [(3, 4), (1, 3), (1, 2)]\n",
    "assert(enoughData(detectedTagIds, setOfTags))"
   ]
  },
  {
   "cell_type": "code",
   "execution_count": null,
   "id": "0bfcc234-7cc9-4cf1-9a1f-480c2a000e77",
   "metadata": {},
   "outputs": [],
   "source": [
    "setOfTags = {1,2,3,4}\n",
    "detectTagSets = []\n",
    "setOfDetectedTags = set()\n",
    "usefulTags = []\n",
    "\n",
    "robot = RemoteInterface(Config.ip)\n",
    "at_detector = ATDetector()\n",
    "manualControl = ManualControl(robot)\n",
    "\n",
    "while not enoughData(detectTagSets, setOfTags):\n",
    "    robot.update()\n",
    "    manualControl.run()\n",
    "    color, _, _ = robot.read()\n",
    "    tags = at_detector.detect(color)\n",
    "    tags = [tag for tag in tags if tag.tag_id in setOfTags]\n",
    "    if len(tags) < 2:\n",
    "        continue\n",
    "    tagIds = tuple([tag.tag_id for tag in tags])\n",
    "    print(\"detected ids:\", tagIds)\n",
    "    if not tagIds in setOfDetectedTags:\n",
    "        print(\"new set:\", tagIds)\n",
    "        setOfDetectedTags.add(tagIds)\n",
    "        detectTagSets.append(tagIds)\n",
    "        usefulTags.append(tags)\n",
    "print(\"DONE\")\n",
    "del manualControl, at_detector, robot\n",
    "pygame.display.quit()\n",
    "pygame.quit()"
   ]
  },
  {
   "cell_type": "code",
   "execution_count": null,
   "id": "681e94a9-c8f2-46cb-b462-96de15549bb0",
   "metadata": {},
   "outputs": [],
   "source": [
    "len(usefulTags[0])"
   ]
  },
  {
   "cell_type": "code",
   "execution_count": null,
   "id": "177f7d9e-53af-49f9-bfa2-edb8121b7038",
   "metadata": {},
   "outputs": [],
   "source": [
    "def tagToT(tag):\n",
    "    T = np.eye(4,dtype = float)\n",
    "    T[:3,:3] = tag.pose_R\n",
    "    T[:3, 3] = tag.pose_t.squeeze()\n",
    "    return T\n",
    "\n",
    "print(tagToT(usefulTags[0][1]))"
   ]
  },
  {
   "cell_type": "code",
   "execution_count": null,
   "id": "542f90b0-224a-46cb-bc85-70d7007f45b9",
   "metadata": {},
   "outputs": [],
   "source": [
    "len(usefulTags)"
   ]
  },
  {
   "cell_type": "code",
   "execution_count": null,
   "id": "9a56dafc-45e0-439b-a31e-6fb8d157c7b6",
   "metadata": {},
   "outputs": [],
   "source": [
    "# 3 to 1\n",
    "curr = usefulTags[1]\n",
    "idxFrom = 1 # 3\n",
    "idxTo = 0 # 1\n",
    "print([tag.tag_id for tag in curr])\n",
    "T3to1 = np.linalg.inv(tagToT(curr[idxTo])) @ tagToT(curr[idxFrom])\n",
    "print(repr(T3to1))"
   ]
  },
  {
   "cell_type": "code",
   "execution_count": null,
   "id": "a6180813-a66c-4f05-b8c9-f8ab3b88f873",
   "metadata": {},
   "outputs": [],
   "source": [
    "# 2 to 1\n",
    "curr = usefulTags[2]\n",
    "idxFrom = 1 # 2\n",
    "idxTo = 0 # 1\n",
    "print([tag.tag_id for tag in curr])\n",
    "T2to1 = np.linalg.inv(tagToT(curr[idxTo])) @ tagToT(curr[idxFrom])\n",
    "print(repr(T2to1))"
   ]
  },
  {
   "cell_type": "code",
   "execution_count": null,
   "id": "029e841d-d6a5-4a80-93d8-ccaef03b8f6d",
   "metadata": {},
   "outputs": [],
   "source": [
    "# 4 to 1\n",
    "curr = usefulTags[0]\n",
    "idxFrom = 1 # 2\n",
    "idxTo = 0 # 1\n",
    "print([tag.tag_id for tag in curr])\n",
    "T4to3 = np.linalg.inv(tagToT(curr[idxTo])) @ tagToT(curr[idxFrom])\n",
    "print(repr(T3to1 @ T4to3))"
   ]
  },
  {
   "cell_type": "code",
   "execution_count": 10,
   "id": "b8367728-ff73-4b7e-93b4-fad17dbe170a",
   "metadata": {},
   "outputs": [
    {
     "name": "stdout",
     "output_type": "stream",
     "text": [
      "1\n",
      "[[ 1.  0.  0.  0.]\n",
      " [ 0.  0.  1.  0.]\n",
      " [ 0. -1.  0.  0.]\n",
      " [ 0.  0.  0.  1.]]\n",
      "2\n",
      "[[-3.86255540e-02  3.89327231e-02 -9.98495022e-01 -2.59944926e-01]\n",
      " [ 9.99253501e-01  7.91993879e-04 -3.86240139e-02 -1.05946318e+00]\n",
      " [-7.12936093e-04 -9.99241520e-01 -3.89342511e-02  2.82976469e-02]\n",
      " [ 0.00000000e+00  0.00000000e+00  0.00000000e+00  1.00000000e+00]]\n",
      "3\n",
      "[[ 0.99471329 -0.01590299 -0.10145225  1.04627609]\n",
      " [ 0.1005284  -0.05088733  0.99363198  0.02251224]\n",
      " [-0.02096435 -0.99857778 -0.0490196  -0.02472891]\n",
      " [ 0.          0.          0.          1.        ]]\n",
      "4\n",
      "[[-1.15711296e-02  7.91264896e-04  9.99932739e-01  1.88734180e+00]\n",
      " [-9.99669446e-01 -2.29695017e-02 -1.15499066e-02 -5.35296744e-01]\n",
      " [ 2.29588177e-02 -9.99735853e-01  1.05678642e-03 -1.74137121e-03]\n",
      " [ 0.00000000e+00  0.00000000e+00  0.00000000e+00  1.00000000e+00]]\n"
     ]
    }
   ],
   "source": [
    "class Map:\n",
    "  _landmarks = {\n",
    "      1: np.array([[1, 0,0,0],\n",
    "                      [0,0,1,0],\n",
    "                      [0,-1,0,0],\n",
    "                      [0,0,0,1]], dtype=float),\n",
    "      3: np.array([[0.99471329, -0.01590299, -0.10145225,  1.04627609],\n",
    "                   [0.02096435,  0.99857778,  0.0490196,  0.02472891],\n",
    "                   [0.1005284, -0.05088733,  0.99363198,  0.02251224],\n",
    "                   [0.,  0.,  0.,  1.]]),\n",
    "      2: np.array([[-3.86255540e-02,  3.89327231e-02, -9.98495022e-01, -2.59944926e-01],\n",
    "                   [7.12936093e-04,  9.99241520e-01,  3.89342511e-02, -2.82976469e-02],\n",
    "                   [9.99253501e-01,  7.91993879e-04, -3.86240139e-02, -1.05946318e+00],\n",
    "                   [0.00000000e+00,  0.00000000e+00,  0.00000000e+00, 1.00000000e+00]]),\n",
    "      4: np.array([[-1.15711296e-02,  7.91264896e-04,  9.99932739e-01, 1.88734180e+00],\n",
    "                   [-2.29588177e-02,  9.99735853e-01, -1.05678642e-03, 1.74137121e-03],\n",
    "                   [-9.99669446e-01, -2.29695017e-02, -1.15499066e-02, -5.35296744e-01],\n",
    "                   [0.00000000e+00,  0.00000000e+00,  0.00000000e+00, 1.00000000e+00]])\n",
    "  }\n",
    "\n",
    "  def getLandmark(id):\n",
    "    if id == 1:\n",
    "      return Map._landmarks[1]\n",
    "    return Map._landmarks[1] @ Map._landmarks[id]\n",
    "\n",
    "for id in range(1,5):\n",
    "    print(id)\n",
    "    print(Map.getLandmark(id))"
   ]
  },
  {
   "cell_type": "code",
   "execution_count": null,
   "id": "5a8da5f8-c77c-4e44-b038-e01b4445ebee",
   "metadata": {},
   "outputs": [],
   "source": []
  }
 ],
 "metadata": {
  "kernelspec": {
   "display_name": "Python 3 (ipykernel)",
   "language": "python",
   "name": "python3"
  },
  "language_info": {
   "codemirror_mode": {
    "name": "ipython",
    "version": 3
   },
   "file_extension": ".py",
   "mimetype": "text/x-python",
   "name": "python",
   "nbconvert_exporter": "python",
   "pygments_lexer": "ipython3",
   "version": "3.10.11"
  }
 },
 "nbformat": 4,
 "nbformat_minor": 5
}
